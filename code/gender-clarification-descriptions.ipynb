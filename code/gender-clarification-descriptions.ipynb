{
 "cells": [
  {
   "cell_type": "markdown",
   "metadata": {},
   "source": [
    "# Clasificación de Género Clasical Aproach\n",
    "\n",
    "### Josep Monclús Carrasco"
   ]
  },
  {
   "cell_type": "code",
   "execution_count": 54,
   "metadata": {},
   "outputs": [],
   "source": [
    "import pandas as pd\n",
    "import numpy as np\n",
    "dataset = pd.read_csv(\"tutors.csv\")\n",
    "dataset = dataset[dataset[\"descripcion_clean\"].notna()]"
   ]
  },
  {
   "cell_type": "code",
   "execution_count": 57,
   "metadata": {},
   "outputs": [],
   "source": [
    "dataset = dataset[dataset[\"descripcion_clean\"].str.len() > 50]"
   ]
  },
  {
   "cell_type": "code",
   "execution_count": 58,
   "metadata": {},
   "outputs": [],
   "source": [
    "import nltk\n",
    "from nltk.corpus import stopwords\n",
    "from nltk.tokenize import word_tokenize \n",
    "from nltk.stem import PorterStemmer\n",
    "from nltk import WordNetLemmatizer"
   ]
  },
  {
   "cell_type": "code",
   "execution_count": 88,
   "metadata": {},
   "outputs": [],
   "source": [
    "genderized_words = {\n",
    "    \"profesor\":\"profesorx\",\"profesora\":\"profesorx\",\n",
    "    \"professor\":\"profesorx\",\"professora\":\"profesorx\",\n",
    "    \"maestro\":\"maestrx\",\"maestra\":\"maestrx\",\n",
    "    \"licenciado\":\"licenciadx\",\"licenciada\":\"licenciadx\",\n",
    "    \"simpatica\":\"simpaticx\",\"simpatico\":\"simpaticx\",\n",
    "    \"educada\":\"educadx\",\"educado\":\"educadx\",\n",
    "    \"graduada\":\"graduadx\",\"graduado\":\"graduadx\",\n",
    "    \"especializado\":\"especializadx\",\"especializada\":\"especializadx\",\n",
    "    \"chico\":\"chicx\",\"chica\":\"chicx\",\n",
    "    \"biólogo\":\"biologx\",\"bióloga\":\"biologx\",\n",
    "    \"compositor\":\"compositorx\",\"compositora\":\"compositorx\",\n",
    "    \"director\":\"directorx\",\"directora\":\"directorx\",\n",
    "    \"tutor\":\"tutorx\",\"tutora\":\"tutorx\",\n",
    "    \"diplomado\":\"diplomadx\",\"diplomada\":\"diplomadx\",\n",
    "    \"traductor\":\"traductorx\",\"traductora\":\"traductorx\",\n",
    "    \"francesa\":\"francesx\",\"frances\":\"francesx\",\n",
    "    \"examinador\":\"examinadorx\",\"examinadora\":\"examinadorx\",\n",
    "    \"haberla\":\"haberlx\",\"haberlo\":\"haberlx\",\n",
    "    \"músico\":\"musicx\",\"música\":\"musicx\",\n",
    "    \"musico\":\"musicx\",\"musica\":\"musicx\",\n",
    "    \"chicas\":\"chicxs\",\"chicos\":\"chicxs\",\n",
    "    \"hija\":\"hijx\",\"hijo\":\"hijx\",\n",
    "    \"bailarín\":\"bailarinx\",\"bailarina\":\"bailarinx\",\"bailarin\":\"bailarinx\",\n",
    "    \"certificado\":\"certificadx\",\"certificada\":\"certificadx\",\n",
    "    \"recomendarla\":\"recomendarlx\",\"recomendarlo\":\"recomendarlx\",\n",
    "    \"primera\":\"primerx\",\"primero\":\"primerx\",\n",
    "    \"tenerla\":\"tenerlx\",\"tenerle\":\"tenerlx\",\"tenerlo\":\"tenerlx\",\n",
    "    \"nativa\":\"nativx\",\"nativo\":\"nativx\",\n",
    "    \"implicada\":\"implicadx\",\"implicado\":\"implicadx\",\n",
    "    \"ingeniero\":\"ingenierx\",\"ingeniera\":\"ingenierx\",\n",
    "    \"entrenador\":\"entrenadorx\",\"entrenadora\":\"entrenadorx\",\n",
    "    \"titulado\":\"tituladx\",\"titulada\":\"tituladx\",\n",
    "    \"encantado\":\"encantadx\",\"encantada\":\"encantadx\",\n",
    "    \"apasionado\":\"apasionadx\",\"apasionada\":\"apasionadx\",\n",
    "    \"dispuesto\":\"dispuestx\",\"dispuesta\":\"dispuestx\",\n",
    "    \"comprometida\":\"comprometidx\",\"comprometido\":\"comprometidx\",\n",
    "    \"estupendo\":\"estupendx\",\"estupenda\":\"estupendx\",\n",
    "    \"preparado\":\"preparadx\",\"preparada\":\"preparadx\",\n",
    "    \"buen\":\"buenx\",\"buena\":\"buenx\",\"bueno\":\"buenx\",\n",
    "    \"cercano\":\"cercanx\",\"cercana\":\"cercanx\",\n",
    "    \"didáctico\":\"didáctix\",\"didáctica\":\"didársctix\",\n",
    "    \"profesores\":\"profesorxs\",\"profesoras\":\"profesorxs\",\n",
    "    \"amigo\":\"amigx\",\"amiga\":\"amigx\",\n",
    "    \"majo\":\"majx\",\"maja\":\"majx\",\n",
    "    \"monitor\":\"monitorx\",\"monitora\":\"monitorx\",\n",
    "    \"dedicada\":\"dedicadx\",\"dedicado\":\"dedicadx\",\n",
    "    \"recomendado\":\"recomendadx\",\"recomendada\":\"recomendadx\",\n",
    "    \"atento\":\"atentx\",\"atenta\":\"atentx\",\n",
    "    \"simpático\":\"simpaticx\",\"simpática\":\"simpaticx\",\n",
    "    \"motivadora\":\"motivadorx\",\"motivador\":\"motivadorx\",\n",
    "    \"trabajador\":\"trabajadorx\",\"trabajadora\":\"trabajadorx\",\n",
    "    \"encantadora\":\"encantadorx\",\"encantador\":\"encantadorx\",\n",
    "    \"seria\":\"serix\",\"serio\":\"serix\",\n",
    "    \"chicos\":\"chicxs\",\"chicas\":\"chicxs\",\n",
    "    \"preparado\":\"preparadx\",\"preparada\":\"preparadx\",\n",
    "    \"fantástico\":\"fantásticx\",\"fantástica\":\"fantásticx\",\n",
    "    \"comprometida\":\"comprometidx\",\"comprometido\":\"comprometidx\",\n",
    "    \"claro\":\"clarx\",\"clara\":\"clarx\",\n",
    "    \"sencillo\":\"sencillx\",\"sencilla\":\"sencillx\",\n",
    "    \"divertido\":\"divertidx\",\"divertida\":\"divertidx\",\n",
    "    \"magnífico\":\"magníficx\",\"magnífica\":\"magníficx\",\n",
    "    \"compañero\":\"compañerx\",\"compañera\":\"compañerx\",\n",
    "    \"dinámico\":\"dinámicx\",\"dinámica\":\"dinámicx\",\n",
    "    \"comprensivo\":\"comprensivx\",\"comprensiva\":\"comprensivx\",\n",
    "    \"entregado\":\"entregadx\",\"entregada\":\"entregadx\",\n",
    "    \"cumplidor\":\"cumplidorx\",\"cumplidora\":\"cumplidorx\",\n",
    "    \"respetuoso\":\"respetuosx\",\"respetuosa\":\"respetuosx\",\n",
    "    \"digno\":\"dignx\",\"digna\":\"dignx\",\n",
    "    \"organizada\":\"organizadx\",\"organizado\":\"organizadx\",\n",
    "    \"cariñosa\":\"cariñosx\",\"cariñoso\":\"cariñosx\",\n",
    "    \"maravillosa\":\"maravillosx\",\"maravilloso\":\"maravillosx\",\n",
    "    \"empática\":\"empáticx\",\"empático\":\"empáticx\",\n",
    "    \"tranquilo\":\"tranquilx\",\"tranquila\":\"tranquilx\",\n",
    "    \"magnífico\":\"magníficx\",\"magnífica\":\"magníficx\",\n",
    "    \"metódico\":\"metódicx\",\"metódica\":\"metódicx\",\n",
    "    \"cualificado\":\"cualificadx\",\"cualificada\":\"cualificadx\",\n",
    "    \"ordenado\":\"ordenadx\",\"ordenada\":\"ordenadx\",\n",
    "    \"resolutivo\":\"resolutivx\",\"resolutiva\":\"resolutivx\",\n",
    "    \"aplicada\":\"aplicadx\",\"aplicado\":\"aplicadx\",\n",
    "    \"práctico\":\"prácticx\",\"práctica\":\"prácticx\",\n",
    "    \"motivado\":\"motivadx\",\"motivada\":\"motivadx\",\n",
    "    \"extraordinario\":\"extraordinarix\",\"extraordinaria\":\"extraordinarix\",\n",
    "    \"capacitado\":\"capacitadx\",\"capacitada\":\"capacitadx\",\n",
    "    \"adaptado\":\"adaptadx\",\"adaptada\":\"adaptadx\",\n",
    "    \"niño\":\"niñx\",\"niña\":\"niñx\",\n",
    "    \"técnico\":\"tecnicx\",\"técnica\":\"tecnicx\",\n",
    "    \"abierto\":\"abiertx\",\"abierta\":\"abiertx\"\n",
    "}"
   ]
  },
  {
   "cell_type": "code",
   "execution_count": 89,
   "metadata": {},
   "outputs": [],
   "source": [
    "from sklearn.feature_extraction.text import TfidfVectorizer\n",
    "from sklearn.model_selection import train_test_split\n",
    "import re\n",
    "from nltk.corpus import stopwords\n",
    "stop = stopwords.words('spanish')\n",
    "tfidf_vectorizer=TfidfVectorizer(stop_words=stop, max_df=0.7)\n",
    "#Data cleaning \n",
    "dataset[\"descripcion_clean2\"]=dataset[\"descripcion_clean\"].str.lower()\n",
    "# remove punctuation\n",
    "dataset['descripcion_clean2'] = dataset['descripcion_clean2'].apply(lambda x: re.sub('[^\\w\\s]', ' ', x))\n",
    "# remove one and two character words\n",
    "dataset['descripcion_clean2'] = dataset['descripcion_clean2'].apply(lambda x: re.sub(r'\\b\\w{1,3}\\b', '', x))\n",
    "# remove numerical values\n",
    "dataset['descripcion_clean2'] = dataset['descripcion_clean2'].apply(lambda x: re.sub(r'[0-9]+', '', x))\n",
    "# \\s+ means all empty space (\\n, \\r, \\t)\n",
    "dataset['descripcion_clean2'] = dataset['descripcion_clean2'].apply(lambda x: re.sub('\\s+', ' ', x))\n",
    "# Neutralizar género\n",
    "dataset['descripcion_clean2'] = dataset['descripcion_clean2'].apply(lambda x: \" \".join([word if word not in genderized_words else genderized_words[word] for word in x.split(\" \")]))"
   ]
  },
  {
   "cell_type": "code",
   "execution_count": 90,
   "metadata": {},
   "outputs": [
    {
     "name": "stdout",
     "output_type": "stream",
     "text": [
      "Número de mujeres:  5048\n",
      "Número de hombres:  4113\n"
     ]
    }
   ],
   "source": [
    "print(\"Número de mujeres: \", np.sum(dataset.genero == \"female\")) \n",
    "print(\"Número de hombres: \", np.sum(dataset.genero == \"male\")) "
   ]
  },
  {
   "cell_type": "markdown",
   "metadata": {},
   "source": [
    "HACER EL SPLIT 80/10/10"
   ]
  },
  {
   "cell_type": "code",
   "execution_count": null,
   "metadata": {},
   "outputs": [],
   "source": [
    "from sklearn import model_selection, naive_bayes, svm\n",
    "from sklearn.metrics import accuracy_score,roc_auc_score\n",
    "import time\n",
    "t = time.time()\n",
    "dataset[\"genero_int\"] = dataset.genero\n",
    "dataset[\"genero_int\"][dataset[\"genero_int\"] == \"female\"] = 1\n",
    "dataset[\"genero_int\"][dataset[\"genero_int\"] == \"male\"] = 0\n",
    "x_train,x_test,y_train,y_test=train_test_split(dataset['descripcion_clean2'], dataset.genero_int, test_size=0.2, random_state=7)\n",
    "tfidf_train=tfidf_vectorizer.fit_transform(x_train) \n",
    "tfidf_test=tfidf_vectorizer.transform(x_test)\n",
    "y_train = y_train.astype('int')\n",
    "y_test = y_test.astype('int')\n",
    "print(time.time() - t)"
   ]
  },
  {
   "cell_type": "code",
   "execution_count": null,
   "metadata": {},
   "outputs": [],
   "source": [
    "t = time.time()\n",
    "# Classifier - Algorithm - SVM\n",
    "# fit the training dataset on the classifier\n",
    "SVM = svm.SVC(C=1.0, kernel='linear',probability=True)\n",
    "SVM.fit(tfidf_train,y_train)\n",
    "# predict the labels on validation dataset\n",
    "predictions_SVM = SVM.predict(tfidf_test)\n",
    "# Use accuracy_score function to get the accuracy\n",
    "print(\"SVM Accuracy Score -> \",accuracy_score(y_test,predictions_SVM)*100)\n",
    "print(\"SVM AUCroc -> \",roc_auc_score(y_test,predictions_SVM))\n",
    "print(time.time() - t)"
   ]
  },
  {
   "cell_type": "code",
   "execution_count": 52,
   "metadata": {},
   "outputs": [],
   "source": [
    "#Pasamos por todo el dataset el tfidf\n",
    "male_df = dataset[dataset[\"genero_int\"] == 0]\n",
    "female_df = dataset[dataset[\"genero_int\"] == 1]\n",
    "tfidf_male = tfidf_vectorizer.transform(male_df[\"descripcion_clean2\"]) \n",
    "tfidf_female = tfidf_vectorizer.transform(female_df[\"descripcion_clean2\"]) \n",
    "#Predecimos\n",
    "probabilities_males = SVM.predict_proba(tfidf_male)\n",
    "probabilities_females = SVM.predict_proba(tfidf_female)\n",
    "#Sacamos su gender incongruence\n",
    "male_incongruence = probabilities_males[:,1]\n",
    "female_incongruence = probabilities_females[:,0]"
   ]
  },
  {
   "cell_type": "code",
   "execution_count": null,
   "metadata": {},
   "outputs": [],
   "source": [
    "#Sacamos el top 10 mujeres con más gender incongruence\n",
    "ind_femal = sorted(range(len(female_incongruence)), key=lambda i: female_incongruence[i])[-10:]\n",
    "for i in ind_femal:\n",
    "    print(\"*\"*30)\n",
    "    print(female_df[\"descripcion\"].iloc[i])\n",
    "    print(\"*\"*30)"
   ]
  },
  {
   "cell_type": "code",
   "execution_count": null,
   "metadata": {},
   "outputs": [],
   "source": [
    "#Sacamos el top 10 hombres con más gender incongruence\n",
    "ind_mal = sorted(range(len(male_incongruence)), key=lambda i: male_incongruence[i])[-10:]\n",
    "for i in ind_mal:\n",
    "    print(\"*\"*30)\n",
    "    print(male_df[\"descripcion\"].iloc[i])\n",
    "    print(\"*\"*30)"
   ]
  },
  {
   "cell_type": "code",
   "execution_count": 28,
   "metadata": {},
   "outputs": [
    {
     "data": {
      "text/plain": [
       "0.9770880490957047"
      ]
     },
     "execution_count": 28,
     "metadata": {},
     "output_type": "execute_result"
    }
   ],
   "source": [
    "male_incongruence[2797]"
   ]
  },
  {
   "cell_type": "code",
   "execution_count": 97,
   "metadata": {},
   "outputs": [
    {
     "name": "stdout",
     "output_type": "stream",
     "text": [
      "SVM Accuracy Score ->  77.9596290234588\n",
      "SVM AUCroc ->  0.7724785110634916\n",
      "21.256436109542847\n"
     ]
    }
   ],
   "source": [
    "t = time.time()\n",
    "# Classifier - Algorithm - SVM\n",
    "# fit the training dataset on the classifier\n",
    "SVM = svm.SVC(C=1.02, kernel='linear', degree=3, gamma='auto')#,probability=True)\n",
    "SVM.fit(tfidf_train,y_train)\n",
    "# predict the labels on validation dataset\n",
    "predictions_SVM = SVM.predict(tfidf_test)\n",
    "# Use accuracy_score function to get the accuracy\n",
    "print(\"SVM Accuracy Score -> \",accuracy_score(y_test,predictions_SVM)*100)\n",
    "print(\"SVM AUCroc -> \",roc_auc_score(y_test,predictions_SVM))\n",
    "print(time.time() - t)"
   ]
  },
  {
   "cell_type": "code",
   "execution_count": 103,
   "metadata": {},
   "outputs": [],
   "source": [
    "coefs = np.sort(SVM.coef_.toarray())\n",
    "k_words = 20\n",
    "male_words = coefs[0][0:k_words]\n",
    "female_words = coefs[0][-k_words:]\n",
    "pal_male = []\n",
    "pal_female = []\n",
    "for i in range(k_words):\n",
    "    ind_male = SVM.coef_.toarray().tolist()[0].index(male_words[i])\n",
    "    val_male = male_words[i]\n",
    "    ind_female = SVM.coef_.toarray().tolist()[0].index(female_words[i])\n",
    "    val_female = female_words[i]\n",
    "    for palabra,numero in tfidf_vectorizer.vocabulary_.items():\n",
    "        if numero == ind_male:\n",
    "            pal_male.append([palabra,val_male])\n",
    "        if numero == ind_female:\n",
    "            pal_female.append([palabra,val_female])"
   ]
  },
  {
   "cell_type": "code",
   "execution_count": 104,
   "metadata": {},
   "outputs": [
    {
     "data": {
      "text/plain": [
       "[['informática', -2.3709894554499966],\n",
       " ['casos', -2.3406054501654805],\n",
       " ['problemas', -2.290807868787725],\n",
       " ['buscan', -2.189631165593633],\n",
       " ['ingeniería', -2.135511869573701],\n",
       " ['tipos', -2.1294633943257857],\n",
       " ['guitarra', -2.075636512213851],\n",
       " ['pantalla', -2.014222921065295],\n",
       " ['sistema', -1.9657508207361818],\n",
       " ['saludos', -1.9467360023134237],\n",
       " ['aprobar', -1.9394378463400355],\n",
       " ['física', -1.9042893534114658],\n",
       " ['entrenadorx', -1.868778108119337],\n",
       " ['serix', -1.867187509598873],\n",
       " ['acento', -1.824195212349706],\n",
       " ['industrial', -1.7612269043461186],\n",
       " ['sistemas', -1.7539369543506134],\n",
       " ['permite', -1.7429397967388292],\n",
       " ['añadir', -1.7381817958726544],\n",
       " ['desplazo', -1.7105569203582245]]"
      ]
     },
     "execution_count": 104,
     "metadata": {},
     "output_type": "execute_result"
    }
   ],
   "source": [
    "pal_male"
   ]
  },
  {
   "cell_type": "code",
   "execution_count": 105,
   "metadata": {},
   "outputs": [
    {
     "data": {
      "text/plain": [
       "[['profe', 1.5195541335273999],\n",
       " ['trayectoria', 1.5363194048011322],\n",
       " ['técnicas', 1.540835865171854],\n",
       " ['actualmente', 1.5452688022161587],\n",
       " ['memoria', 1.5478065782786041],\n",
       " ['violín', 1.5666761948352304],\n",
       " ['cantar', 1.620653329662999],\n",
       " ['placer', 1.634063002543961],\n",
       " ['inmersión', 1.6354182260551937],\n",
       " ['adapto', 1.637936256777779],\n",
       " ['amor', 1.7012216318405122],\n",
       " ['danza', 1.7087187771341203],\n",
       " ['libre', 1.710371174176926],\n",
       " ['esquemas', 1.757102868650598],\n",
       " ['vocal', 2.003922150982235],\n",
       " ['seguir', 2.0430067341607256],\n",
       " ['creatividad', 2.277795295489555],\n",
       " ['pasos', 2.313447952370609],\n",
       " ['depende', 2.3734890847624093],\n",
       " ['niños', 2.747462574294562]]"
      ]
     },
     "execution_count": 105,
     "metadata": {},
     "output_type": "execute_result"
    }
   ],
   "source": [
    "pal_female"
   ]
  },
  {
   "cell_type": "code",
   "execution_count": 98,
   "metadata": {},
   "outputs": [
    {
     "name": "stdout",
     "output_type": "stream",
     "text": [
      "Palabras más usadas por hombres\n",
      "sistemas -1.7539369543506134\n",
      "ingeniería -2.135511869573701\n",
      "física -1.9042893534114658\n",
      "problemas -2.290807868787725\n",
      "aprobar -1.9394378463400355\n",
      "permite -1.7429397967388292\n",
      "desplazo -1.7105569203582245\n",
      "buscan -2.189631165593633\n",
      "entrenadorx -1.868778108119337\n",
      "añadir -1.7381817958726544\n",
      "guitarra -2.075636512213851\n",
      "acento -1.824195212349706\n",
      "tipos -2.1294633943257857\n",
      "informática -2.3709894554499966\n",
      "sistema -1.9657508207361818\n",
      "industrial -1.7612269043461186\n",
      "casos -2.3406054501654805\n",
      "pantalla -2.014222921065295\n",
      "serix -1.867187509598873\n",
      "saludos -1.9467360023134237\n"
     ]
    }
   ],
   "source": [
    "print(\"Palabras más usadas por hombres\")\n",
    "for palabra,numero in tfidf_vectorizer.vocabulary_.items():\n",
    "    if numero in ind_male:\n",
    "        print(palabra,val_male[ind_male.index(numero)])"
   ]
  },
  {
   "cell_type": "code",
   "execution_count": 102,
   "metadata": {},
   "outputs": [
    {
     "name": "stdout",
     "output_type": "stream",
     "text": [
      "Palabras más usadas por mujeres\n",
      "técnicas 1.540835865171854\n",
      "niños 2.747462574294562\n",
      "libre 1.710371174176926\n",
      "amor 1.7012216318405122\n",
      "actualmente 1.5452688022161587\n",
      "danza 1.7087187771341203\n",
      "creatividad 2.277795295489555\n",
      "adapto 1.637936256777779\n",
      "trayectoria 1.5363194048011322\n",
      "esquemas 1.757102868650598\n",
      "seguir 2.0430067341607256\n",
      "depende 2.3734890847624093\n",
      "vocal 2.003922150982235\n",
      "cantar 1.620653329662999\n",
      "pasos 2.313447952370609\n",
      "profe 1.5195541335273999\n",
      "memoria 1.5478065782786041\n",
      "placer 1.634063002543961\n",
      "inmersión 1.6354182260551937\n",
      "violín 1.5666761948352304\n"
     ]
    }
   ],
   "source": [
    "print(\"Palabras más usadas por mujeres\")\n",
    "for palabra,numero in tfidf_vectorizer.vocabulary_.items():\n",
    "    if numero in ind_female:\n",
    "        print(palabra,val_female[ind_female.index(numero)])"
   ]
  },
  {
   "cell_type": "code",
   "execution_count": 39,
   "metadata": {},
   "outputs": [
    {
     "data": {
      "text/plain": [
       "25581"
      ]
     },
     "execution_count": 39,
     "metadata": {},
     "output_type": "execute_result"
    }
   ],
   "source": [
    "SVM.n_features_in_"
   ]
  },
  {
   "cell_type": "code",
   "execution_count": null,
   "metadata": {},
   "outputs": [],
   "source": [
    "## Shifterator Descripciones"
   ]
  },
  {
   "cell_type": "code",
   "execution_count": 23,
   "metadata": {},
   "outputs": [],
   "source": [
    "#!pip install shifterator"
   ]
  },
  {
   "cell_type": "code",
   "execution_count": 24,
   "metadata": {},
   "outputs": [],
   "source": [
    "stop = stopwords.words('spanish')\n",
    "stop.extend([\"profesor\", \"profesora\", \"maestro\"\n",
    "             , \"maestra\", \"licenciada\", \"licenciado\"\n",
    "             , \"simpatica\", \"simpatico\", \"educado\"\n",
    "             , \"educada\", \"graduada\", \"graduado\"\n",
    "             , \"nativa\", \"nativo\",\"implicada\",\"implicado\",\"ingeniero\"\n",
    "             ,\"ingeniera\",\"entrenador\",\"entrenadora\"\n",
    "             ,\"titulada\",\"titulado\",\"especializado\",\"especializada\"\n",
    "             ,\"encantado\",\"encantada\",\"apasionado\",\"apasionada\"\n",
    "             ,\"chico\",\"chica\",\"dispuesto\",\"dispuesta\",\"biólogo\",\"bióloga\"\n",
    "             ,\"compositor\",\"compositora\",\"director\",\"directora\",\"músico\",\n",
    "            \"tutor\",\"tutora\",\"diplomada\",\"diplomado\",\"traductora\",\"traductor\",\n",
    "            \"francesa\",\"examinador\",\"examinadora\",\"comprometida\",\"comprometido\"])"
   ]
  },
  {
   "cell_type": "code",
   "execution_count": 26,
   "metadata": {},
   "outputs": [],
   "source": [
    "def text_preprocessing_updated(text_data,language=\"es\"):\n",
    "    preprocessed_texts = []\n",
    "    for text in text_data:\n",
    "            #text = text.lower()\n",
    "            # hashtags -> words, URLs -> URL and mentions -> USER\n",
    "            text=text.lower()\n",
    "            # remove punctuation\n",
    "            text =re.sub('[^\\w\\s]', ' ', text)\n",
    "            # remove one and two character words\n",
    "            text = re.sub(r'\\b\\w{1,3}\\b', '', text)\n",
    "            # remove numerical values\n",
    "            text = re.sub(r'[0-9]+', '', text)\n",
    "            # \\s+ means all empty space (\\n, \\r, \\t)\n",
    "            text = re.sub('\\s+', ' ', text)\n",
    "            # Neutralizar género\n",
    "            text = \" \".join([word if word not in genderized_words else genderized_words[word] for word in text.split(\" \")])\n",
    "            text = re.sub('#', '', text)\n",
    "            text = re.sub('\\n', ' ', text)\n",
    "            text = re.sub('((www\\.[\\\\s]+)|(https?://[^\\\\s]+))', 'URL', text)\n",
    "            text = re.sub('\\_', ' ', text) # _\n",
    "            text = re.sub('\\!', ' ', text) # !\n",
    "            text = re.sub('\\?', ' ', text) # ?\n",
    "            text = re.sub('\\W', ' ', text) # symbols\n",
    "            text = re.sub('\\_', ' ', text) # _\n",
    "            text = re.sub('[\\s]+', ' ', text) # spaces\n",
    "            text = re.sub(r'(\\d)\\s+(\\d)', r'\\1\\2', text) # remove spaces between numbers\n",
    "            text = text.replace(\"í\",\"i\").replace(\"á\",\"a\").replace(\"ó\",\"o\").replace(\"ú\",\"u\").replace(\"é\",\"e\")\n",
    "            text = text.replace(\"0\",\"\").replace(\"1\",\"\").replace(\"2\",\"\").replace(\"3\",\"\").replace(\"4\",\"\").replace(\"5\",\"\").replace(\"6\",\"\").replace(\"7\",\"\").replace(\"8\",\"\").replace(\"9\",\"\")\n",
    "            text_a = [word for word in text.split(\" \") if word not in stop]\n",
    "            text = \" \".join(text_a)\n",
    "\n",
    "            preprocessed_texts.append(text.lower())\n",
    "\n",
    "    return preprocessed_texts"
   ]
  },
  {
   "cell_type": "code",
   "execution_count": 28,
   "metadata": {},
   "outputs": [],
   "source": [
    "#Materia escogida\n",
    "materia = \"Ciencias\"\n",
    "dataset_m = dataset_m[dataset_m[\"materia\"]==materia]\n",
    "df_male = dataset[\"comentarios\"][dataset[\"genero\"]==\"male\"]\n",
    "male_preprop = text_preprocessing_updated(df_male)\n",
    "df_female = dataset_m[\"comentarios\"][dataset_m[\"genero\"]==\"female\"]\n",
    "female_preprop = text_preprocessing_updated(df_female)"
   ]
  },
  {
   "cell_type": "code",
   "execution_count": 34,
   "metadata": {},
   "outputs": [],
   "source": [
    "#male_preprop\n",
    "import shifterator as sh\n",
    "from nltk.tokenize import word_tokenize\n",
    "text_m = \" \".join(male_preprop).replace(\"í\",\"i\").replace(\"á\",\"a\").replace(\"ó\",\"o\").replace(\"ú\",\"u\").replace(\"é\",\"e\")\n",
    "text_m = text_m.replace(\"0\",\"\").replace(\"1\",\"\").replace(\"2\",\"\").replace(\"3\",\"\").replace(\"4\",\"\").replace(\"5\",\"\").replace(\"6\",\"\").replace(\"7\",\"\").replace(\"8\",\"\").replace(\"9\",\"\")\n",
    "text_m = text_m.split()\n",
    "tokens = [word_tokenize(text_m[i]) for i in range(len(text_m))]\n",
    "flat_list_tokens_m = [item for sublist in tokens for item in sublist]\n",
    "\n",
    "text_f = \" \".join(female_preprop).replace(\"í\",\"i\").replace(\"á\",\"a\").replace(\"ó\",\"o\").replace(\"ú\",\"u\").replace(\"é\",\"e\")\n",
    "text_f = text_f.replace(\"0\",\"\").replace(\"1\",\"\").replace(\"2\",\"\").replace(\"3\",\"\").replace(\"4\",\"\").replace(\"5\",\"\").replace(\"6\",\"\").replace(\"7\",\"\").replace(\"8\",\"\").replace(\"9\",\"\")\n",
    "text_f = text_f.split()\n",
    "tokens = [word_tokenize(text_f[i]) for i in range(len(text_f))]\n",
    "flat_list_tokens_f = [item for sublist in tokens for item in sublist]\n"
   ]
  },
  {
   "cell_type": "code",
   "execution_count": 35,
   "metadata": {},
   "outputs": [],
   "source": [
    "from collections import Counter\n",
    "mst_male = Counter(flat_list_tokens_m).most_common(2000)\n",
    "mst_female = Counter(flat_list_tokens_f).most_common(2000)\n"
   ]
  },
  {
   "cell_type": "code",
   "execution_count": 36,
   "metadata": {},
   "outputs": [],
   "source": [
    "freq_male = dict()\n",
    "for word in mst_male:\n",
    "    freq_male[word[0]] = word[1]\n",
    "    \n",
    "freq_female = dict()\n",
    "for word in mst_female:\n",
    "    freq_female[word[0]] = word[1]"
   ]
  },
  {
   "cell_type": "code",
   "execution_count": 37,
   "metadata": {},
   "outputs": [
    {
     "name": "stderr",
     "output_type": "stream",
     "text": [
      "/Users/josepmoncluscarrasco/opt/anaconda3/lib/python3.7/site-packages/shifterator/plotting.py:604: UserWarning: FixedFormatter should only be used together with FixedLocator\n",
      "  ax.set_xticklabels(x_ticks, fontsize=plot_params[\"xtick_fontsize\"])\n"
     ]
    },
    {
     "data": {
      "image/png": "[encoded data removed]",
      "text/plain": [
       "<Figure size 504x1080 with 3 Axes>"
      ]
     },
     "metadata": {
      "needs_background": "light"
     },
     "output_type": "display_data"
    },
    {
     "data": {
      "text/plain": [
       "<AxesSubplot:title={'center':'Proportion Shift of tutors descriptions'}, xlabel='Score shift $\\\\delta \\\\Phi_{\\\\tau}$ (%)', ylabel='Rank'>"
      ]
     },
     "execution_count": 37,
     "metadata": {},
     "output_type": "execute_result"
    }
   ],
   "source": [
    "proportion_shift = sh.ProportionShift(type2freq_1=freq_male,\n",
    "                                      type2freq_2=freq_female)\n",
    "proportion_shift.get_shift_graph(system_names = ['Profesores', 'Profesoras'],\n",
    "                                 title='Proportion Shift of tutors descriptions')"
   ]
  }
 ],
 "metadata": {
  "kernelspec": {
   "display_name": "Python 3",
   "language": "python",
   "name": "python3"
  },
  "language_info": {
   "codemirror_mode": {
    "name": "ipython",
    "version": 3
   },
   "file_extension": ".py",
   "mimetype": "text/x-python",
   "name": "python",
   "nbconvert_exporter": "python",
   "pygments_lexer": "ipython3",
   "version": "3.7.6"
  }
 },
 "nbformat": 4,
 "nbformat_minor": 4
}
