{
 "cells": [
  {
   "cell_type": "code",
   "execution_count": 1,
   "metadata": {},
   "outputs": [],
   "source": [
    "#!pip install fairsearchcore"
   ]
  },
  {
   "cell_type": "code",
   "execution_count": 12,
   "metadata": {},
   "outputs": [],
   "source": [
    "import fairsearchcore as fsc\n",
    "import pandas as pd\n",
    "from fairsearchcore.models import FairScoreDoc"
   ]
  },
  {
   "cell_type": "code",
   "execution_count": 13,
   "metadata": {},
   "outputs": [],
   "source": [
    "data = pd.read_csv(\"data/tutors.csv\")\n",
    "dat_wp = data[data.webpage == \"superprof\"]\n",
    "dat_wp.reset_index(inplace = True,drop=True)\n",
    "dat_wp1 = data[data.webpage == \"classgap\"]\n",
    "dat_wp1.reset_index(inplace = True,drop=True)\n",
    "dat_wp2 = data[data.webpage == \"tusclasesparticulares\"]\n",
    "dat_wp2.reset_index(inplace = True,drop=True)\n",
    "dat_wp3 = data[data.webpage == \"buscatuprofesor\"]\n",
    "dat_wp3.reset_index(inplace = True,drop=True)\n",
    "dat_wp4 = data[data.webpage == \"yoopie\"]\n",
    "dat_wp4.reset_index(inplace = True,drop=True)"
   ]
  },
  {
   "cell_type": "code",
   "execution_count": 14,
   "metadata": {},
   "outputs": [
    {
     "name": "stdout",
     "output_type": "stream",
     "text": [
      "0.5497507845671036\n",
      "0.5012987012987012\n",
      "0.49238578680203043\n",
      "0.5897435897435898\n",
      "0.6341463414634146\n",
      "0.9029535864978903\n"
     ]
    }
   ],
   "source": [
    "print(data.groupby(\"genero\").count().id_profesor[0]/(data.groupby(\"genero\").count().id_profesor[0]+data.groupby(\"genero\").count().id_profesor[1]))\n",
    "print(dat_wp.groupby(\"genero\").count().id_profesor[0]/(dat_wp.groupby(\"genero\").count().id_profesor[0]+dat_wp.groupby(\"genero\").count().id_profesor[1]))\n",
    "print(dat_wp1.groupby(\"genero\").count().id_profesor[0]/(dat_wp1.groupby(\"genero\").count().id_profesor[0]+dat_wp1.groupby(\"genero\").count().id_profesor[1]))\n",
    "print(dat_wp2.groupby(\"genero\").count().id_profesor[0]/(dat_wp2.groupby(\"genero\").count().id_profesor[0]+dat_wp2.groupby(\"genero\").count().id_profesor[1]))\n",
    "print(dat_wp3.groupby(\"genero\").count().id_profesor[0]/(dat_wp3.groupby(\"genero\").count().id_profesor[0]+dat_wp3.groupby(\"genero\").count().id_profesor[1]))\n",
    "print(dat_wp4.groupby(\"genero\").count().id_profesor[0]/(dat_wp4.groupby(\"genero\").count().id_profesor[0]+dat_wp4.groupby(\"genero\").count().id_profesor[1]))"
   ]
  },
  {
   "cell_type": "code",
   "execution_count": 15,
   "metadata": {},
   "outputs": [],
   "source": [
    "data = pd.read_csv(\"data/tutors.csv\")\n",
    "dat_wp = data[data.materia == \"Ciencias\"]\n",
    "dat_wp.reset_index(inplace = True,drop=True)\n",
    "dat_wp1 = data[data.materia == \"Deporte\"]\n",
    "dat_wp1.reset_index(inplace = True,drop=True)\n",
    "dat_wp2 = data[data.materia == \"Idiomas\"]\n",
    "dat_wp2.reset_index(inplace = True,drop=True)\n",
    "dat_wp3 = data[data.materia == \"Musica\"]\n",
    "dat_wp3.reset_index(inplace = True,drop=True)\n",
    "dat_wp4 = data[data.materia == \"Repaso\"]\n",
    "dat_wp4.reset_index(inplace = True,drop=True)"
   ]
  },
  {
   "cell_type": "code",
   "execution_count": 16,
   "metadata": {},
   "outputs": [
    {
     "data": {
      "text/plain": [
       "array(['Ciencias', 'Deporte', 'Idiomas', 'Musica', 'Repaso'], dtype=object)"
      ]
     },
     "execution_count": 16,
     "metadata": {},
     "output_type": "execute_result"
    }
   ],
   "source": [
    "import numpy as np\n",
    "np.unique(data.materia)"
   ]
  },
  {
   "cell_type": "code",
   "execution_count": 17,
   "metadata": {},
   "outputs": [],
   "source": [
    "def create_all_rankings(df):\n",
    "    rankings = []\n",
    "    rank = []\n",
    "    for i,position in enumerate(df.posicion_top):\n",
    "        if position == 1 and len(rank) == 0:\n",
    "            rank.append(FairScoreDoc(position, None, df.genero[i] == \"female\"))\n",
    "        elif position == 1 and len(rank) != 0:\n",
    "            rankings.append([rank,df.webpage[i],df.materia[i]])\n",
    "            rank = []\n",
    "            rank.append(FairScoreDoc(position, None, df.genero[i] == \"female\"))\n",
    "        else:\n",
    "            rank.append(FairScoreDoc(position, None, df.genero[i] == \"female\"))\n",
    "    return rankings"
   ]
  },
  {
   "cell_type": "code",
   "execution_count": 18,
   "metadata": {},
   "outputs": [],
   "source": [
    "def max_p(ranking,alpha):\n",
    "    res = 0\n",
    "    if len(ranking) > 400:\n",
    "        k = 400\n",
    "    else:\n",
    "        k = len(ranking)\n",
    "    for p in np.arange(0.05,0.95,0.05):\n",
    "        fair = fsc.Fair(k, p, alpha)\n",
    "        if fair.is_fair(ranking[0:k]):\n",
    "            res = p\n",
    "    return res  "
   ]
  },
  {
   "cell_type": "code",
   "execution_count": 19,
   "metadata": {},
   "outputs": [],
   "source": [
    "import numpy as np"
   ]
  },
  {
   "cell_type": "code",
   "execution_count": 20,
   "metadata": {},
   "outputs": [],
   "source": [
    "c = create_all_rankings(data)"
   ]
  },
  {
   "cell_type": "code",
   "execution_count": null,
   "metadata": {},
   "outputs": [],
   "source": [
    "from tqdm import tqdm\n",
    "ps = []\n",
    "webpage = []\n",
    "materia = []\n",
    "for rank in tqdm(c):\n",
    "    if len(rank[0]) < 10:\n",
    "        continue\n",
    "    ps.append(max_p(rank[0],0.1))\n",
    "    webpage.append(rank[1])\n",
    "    materia.append(rank[2])"
   ]
  },
  {
   "cell_type": "code",
   "execution_count": null,
   "metadata": {},
   "outputs": [],
   "source": [
    "dt = pd.DataFrame({\"max_p\":ps,\"webpage\":webpage,\"materia\":materia})\n",
    "#dt.to_csv(\"max_p.csv\")\n",
    "#Materia\n",
    "print(dt.groupby(\"materia\").max_p.quantile(0.25))\n",
    "print(dt.groupby(\"materia\").max_p.quantile(0.5))\n",
    "print(dt.groupby(\"materia\").max_p.quantile(0.75))\n",
    "print(dt.groupby(\"materia\").max_p.mean())\n",
    "#Webpage\n",
    "print(dt.groupby(\"webpage\").max_p.quantile(0.25))\n",
    "print(dt.groupby(\"webpage\").max_p.quantile(0.5))\n",
    "print(dt.groupby(\"webpage\").max_p.quantile(0.75))\n",
    "print(dt.groupby(\"webpage\").max_p.mean())\n",
    "#Total\n",
    "print(df.max_p.quantile(0.25))\n",
    "print(df.max_p.quantile(0.5))\n",
    "print(df.max_p.quantile(0.75))\n",
    "print(df.max_p.mean())"
   ]
  }
 ],
 "metadata": {
  "kernelspec": {
   "display_name": "Python 3",
   "language": "python",
   "name": "python3"
  },
  "language_info": {
   "codemirror_mode": {
    "name": "ipython",
    "version": 3
   },
   "file_extension": ".py",
   "mimetype": "text/x-python",
   "name": "python",
   "nbconvert_exporter": "python",
   "pygments_lexer": "ipython3",
   "version": "3.7.6"
  }
 },
 "nbformat": 4,
 "nbformat_minor": 4
}
